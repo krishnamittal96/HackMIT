{
 "cells": [
  {
   "cell_type": "markdown",
   "metadata": {},
   "source": [
    "Some NumPy Examples"
   ]
  },
  {
   "cell_type": "code",
   "execution_count": 1,
   "metadata": {},
   "outputs": [],
   "source": [
    "import numpy"
   ]
  },
  {
   "cell_type": "markdown",
   "metadata": {},
   "source": [
    "A random array"
   ]
  },
  {
   "cell_type": "raw",
   "metadata": {},
   "source": [
    "Animesh test array"
   ]
  },
  {
   "cell_type": "markdown",
   "metadata": {},
   "source": [
    "## My Heading"
   ]
  },
  {
   "cell_type": "code",
   "execution_count": 2,
   "metadata": {},
   "outputs": [],
   "source": [
    "a = numpy.random.rand(100)"
   ]
  },
  {
   "cell_type": "code",
   "execution_count": 3,
   "metadata": {},
   "outputs": [],
   "source": [
    "a = 10\n",
    "b = 5\n"
   ]
  },
  {
   "cell_type": "code",
   "execution_count": 4,
   "metadata": {},
   "outputs": [],
   "source": [
    "a = 10\n",
    "b = 5"
   ]
  },
  {
   "cell_type": "code",
   "execution_count": 3,
   "metadata": {},
   "outputs": [
    {
     "data": {
      "application/javascript": [
       "var i=0;"
      ],
      "application/json": {
       "key": "value"
      },
      "image/jpeg": "tCC9hyoY\n",
      "image/png": "pPSID88=\n",
      "image/svg+xml": [
       "<svg>"
      ],
      "text/html": [
       "The HTML rep"
      ],
      "text/latex": [
       "$a$"
      ],
      "text/plain": [
       "<array a>"
      ]
     },
     "execution_count": 3,
     "metadata": {},
     "output_type": "execute_result"
    },
    {
     "data": {
      "application/javascript": [
       "var i=0;"
      ],
      "application/json": {
       "key": "value"
      },
      "image/jpeg": "tCC9hyoY\n",
      "image/png": "pPSID88=\n",
      "image/svg+xml": [
       "<svg>"
      ],
      "text/html": [
       "The HTML rep"
      ],
      "text/latex": [
       "$a$"
      ],
      "text/plain": [
       "<array a>"
      ]
     },
     "metadata": {},
     "output_type": "display_data"
    },
    {
     "ename": "NameError",
     "evalue": "NameError was here",
     "output_type": "error",
     "traceback": [
      "frame 0",
      "frame 1",
      "frame 2"
     ]
    },
    {
     "name": "stdout",
     "output_type": "stream",
     "text": [
      "foo\r",
      "bar\r\n"
     ]
    },
    {
     "name": "stderr",
     "output_type": "stream",
     "text": [
      "\r",
      "foo\r",
      "bar\n"
     ]
    }
   ],
   "source": [
    "print \"unicode\""
   ]
  }
 ],
 "metadata": {
  "language": "python"
 },
 "nbformat": 4,
 "nbformat_minor": 1
}
